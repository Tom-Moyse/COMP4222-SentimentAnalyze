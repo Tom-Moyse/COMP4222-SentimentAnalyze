{
  "cells": [
    {
      "cell_type": "code",
      "execution_count": null,
      "outputs": [],
      "source": [
        "import datetime as dt\n",
        "import pytz\n",
        "import pickle\n",
        "import os\n",
        "import json\n",
        "import re\n",
        "\n",
        "import numpy as np\n",
        "import pandas as pd\n",
        "from pandas.io.json import json_normalize\n",
        "import requests\n",
        "import networkx as nx\n",
        "import matplotlib as mpl\n",
        "import matplotlib.pyplot as plt\n",
        "from sklearn.preprocessing import OneHotEncoder\n",
        "\n",
        "\n",
        "tz = pytz.timezone(\"UTC\")"
      ],
      "metadata": {
        "pycharm": {
          "name": "#%%\n"
        },
        "id": "BDcQbG5Zfo6x"
      }
    },
    {
      "cell_type": "code",
      "execution_count": null,
      "outputs": [],
      "source": [
        "NYT_API_KEY = '9dBQIHF8gNTdsM0JSjUIGMQp6xORJGN1'\n",
        "DATE_FROM = dt.datetime(2020,8,3, tzinfo=tz)\n",
        "DATE_TO = dt.datetime(2020,11,3, tzinfo=tz)"
      ],
      "metadata": {
        "pycharm": {
          "name": "#%%\n"
        },
        "id": "S_KWm6Vafo6y"
      }
    },
    {
      "cell_type": "markdown",
      "source": [
        "# 1 Data Collection\n",
        "## 1.1 Get raw data\n",
        "### 1.1.1 Get graph data\n",
        "Keywords of nyt articles are used as nodes and"
      ],
      "metadata": {
        "collapsed": false,
        "pycharm": {
          "name": "#%% md\n"
        },
        "id": "KlNsjroCfo6z"
      }
    },
    {
      "cell_type": "code",
      "execution_count": null,
      "outputs": [],
      "source": [
        "def get_nyt_articles(year, month):\n",
        "    url = f'https://api.nytimes.com/svc/archive/v1/{year}/{month}.json?api-key={NYT_API_KEYa}'\n",
        "    call = requests.get(url)\n",
        "    try:\n",
        "        content = call.json()['response']['docs']\n",
        "    except ValueError:\n",
        "        content = []\n",
        "    except KeyError:\n",
        "        print(call.json())\n",
        "        raise\n",
        "    return content"
      ],
      "metadata": {
        "pycharm": {
          "name": "#%%\n"
        },
        "id": "e9-dFpQLfo6z"
      }
    },
    {
      "cell_type": "code",
      "execution_count": null,
      "outputs": [],
      "source": [
        "def save_article_keywordsin_db(year):\n",
        "    article_keywords = pd.read_feather('article_keywords.feather')\n",
        "    article_keywords.index = article_keywords['index']\n",
        "    article_keywords = article_keywords.drop(columns='index')\n",
        "\n",
        "    for month in range(12, 0, -1):\n",
        "        if [f'{year}{month}'] in article_keywords.pub_date.apply(lambda x: f'{x.year}{x.month}').values:\n",
        "            print(f'{year}-{month}: Articles already downloaded.')\n",
        "            continue\n",
        "\n",
        "        content = get_nyt_articles(year,month)\n",
        "        print(f'{year}-{month}: Found {len(content)} articles.')\n",
        "\n",
        "        for article in content:\n",
        "            article_keywords.at[article['uri'], 'pub_date'] = pd.to_datetime(article['pub_date'])\n",
        "            article_keywords.at[article['uri'], 'keywords'] = list(article['keywords'])\n",
        "\n",
        "    article_keywords.reset_index().to_feather('article_keywords.feather')\n",
        "\n",
        "# save_article_keywordsin_db(year=2020)\n"
      ],
      "metadata": {
        "pycharm": {
          "name": "#%%\n"
        },
        "id": "t7nn1syUfo60"
      }
    },
    {
      "cell_type": "code",
      "execution_count": null,
      "outputs": [],
      "source": [
        "article_keywords = pd.read_feather('article_keywords.feather')\n",
        "article_keywords = article_keywords[(article_keywords.pub_date >= DATE_FROM) & (article_keywords.pub_date <= DATE_TO)]"
      ],
      "metadata": {
        "pycharm": {
          "name": "#%%\n"
        },
        "id": "xr7E5eBSfo60"
      }
    },
    {
      "cell_type": "code",
      "execution_count": null,
      "outputs": [],
      "source": [
        "unique_keywords = {}\n",
        "for index, row in article_keywords.iterrows():\n",
        "    for keyword_data in row.keywords:\n",
        "        if keyword_data['name'] not in unique_keywords.keys():\n",
        "            unique_keywords[keyword_data['name']] = []\n",
        "\n",
        "        if keyword_data['value'] not in unique_keywords[keyword_data['name']]:\n",
        "            unique_keywords[keyword_data['name']].append(keyword_data['value'])\n",
        "\n",
        "unique_keywords"
      ],
      "metadata": {
        "pycharm": {
          "name": "#%%\n"
        },
        "id": "ueYudivYfo60"
      }
    },
    {
      "cell_type": "code",
      "execution_count": null,
      "outputs": [],
      "source": [
        "def get_keyword_features(concept, value):\n",
        "    url = f'https://api.nytimes.com/svc/search/v2/articlesearch.json?fq={concept}:(\"{value}\")&api-key={NYT_API_KEY}'\n",
        "    call = requests.get(url)\n",
        "    return call.json()['response']['docs']\n",
        "\n",
        "get_keyword_features('subject', 'Presidential Election of 2020')"
      ],
      "metadata": {
        "pycharm": {
          "name": "#%%\n"
        },
        "id": "-BUZcPEtfo61"
      }
    },
    {
      "cell_type": "code",
      "execution_count": null,
      "outputs": [],
      "source": [
        "## 1.2 Process raw data\n",
        "### 1.2.1 Build Adjacency matrix"
      ],
      "metadata": {
        "pycharm": {
          "name": "#%%\n"
        },
        "id": "fCGutDWtfo61"
      }
    },
    {
      "cell_type": "code",
      "execution_count": null,
      "outputs": [],
      "source": [
        "article_keywords = pd.read_feather('article_keywords.feather')\n",
        "article_keywords = article_keywords[(article_keywords.pub_date >= DATE_FROM) & (article_keywords.pub_date <= DATE_TO)]"
      ],
      "metadata": {
        "pycharm": {
          "name": "#%%\n"
        },
        "id": "V59l93cdfo61"
      }
    },
    {
      "cell_type": "code",
      "execution_count": null,
      "outputs": [],
      "source": [
        "unique_keywords = {}\n",
        "for index, row in article_keywords.iterrows():\n",
        "    for keyword_data in row.keywords:\n",
        "        if keyword_data['name'] not in unique_keywords.keys():\n",
        "            unique_keywords[keyword_data['name']] = []\n",
        "\n",
        "        if keyword_data['value'] not in unique_keywords[keyword_data['name']]:\n",
        "            unique_keywords[keyword_data['name']].append(keyword_data['value'])\n",
        "\n",
        "unique_keywords"
      ],
      "metadata": {
        "pycharm": {
          "name": "#%%\n"
        },
        "id": "pK55nFQhfo61"
      }
    },
    {
      "cell_type": "code",
      "execution_count": null,
      "outputs": [],
      "source": [
        "def get_keyword_features(concept, value):\n",
        "    url = f'https://api.nytimes.com/svc/search/v2/articlesearch.json?fq={concept}:(\"{value}\")&api-key={NYT_API_KEY}'\n",
        "    call = requests.get(url)\n",
        "    return call.json()['response']['docs']\n",
        "\n",
        "get_keyword_features('subject', 'Presidential Election of 2020')"
      ],
      "metadata": {
        "pycharm": {
          "name": "#%%\n"
        },
        "id": "CGXFIn90fo62"
      }
    },
    {
      "cell_type": "code",
      "execution_count": null,
      "outputs": [],
      "source": [
        "## 1.2 Process raw data\n",
        "### 1.2.1 Build Adjacency matrix"
      ],
      "metadata": {
        "pycharm": {
          "name": "#%%\n"
        },
        "id": "BtuUz_yKfo62"
      }
    },
    {
      "cell_type": "code",
      "execution_count": null,
      "outputs": [],
      "source": [
        "def get_adjacency_matrix(date_from, date_to):\n",
        "    df = pd.read_feather('article_keywords.feather')\n",
        "    df.index = df['index']\n",
        "    df = df.drop(columns='index')\n",
        "    df = df[(df.pub_date >= date_from) & (df.pub_date <= date_to)]\n",
        "    df.keywords = df.keywords.apply(lambda x: [y['value'] for y in x])\n",
        "\n",
        "    unique_keywords = list(set([item for sublist in df.keywords for item in sublist]))\n",
        "    num_keywords = len(unique_keywords)\n",
        "    print(f'{num_keywords} Keywords found.')\n",
        "    df_exploded = df.explode('keywords')['keywords']\n",
        "\n",
        "    print('Start One Hot Encoding.', end=' ')\n",
        "    # art_key_matrix = pd.get_dummies(df_exploded).groupby('index').sum()[unique_keywords]#.to_numpy()\n",
        "    # print(art_key_matrix.shape)\n",
        "\n",
        "    enc = OneHotEncoder(sparse=False)\n",
        "    art_key_matrix = enc.fit_transform(df_exploded.values.reshape(-1, 1))#to print the encoded features for train data\n",
        "    art_key_matrix = pd.DataFrame(art_key_matrix, index=df_exploded.index, columns=list(enc.categories_[0])).groupby('index').sum()[unique_keywords].to_numpy()\n",
        "\n",
        "    print('Done.')\n",
        "    total_occurance_matrix = np.zeros((num_keywords,num_keywords))\n",
        "\n",
        "    print('Calc total_occurance_matrix:')\n",
        "    for i in range(num_keywords):\n",
        "        print(f'{i}/{num_keywords}', end='\\r')\n",
        "        for j in range(num_keywords):\n",
        "            if j >= i:\n",
        "                continue\n",
        "            temp = art_key_matrix[:,i] + art_key_matrix[:,j]\n",
        "            total_occurance = temp[temp==2].sum()\n",
        "            total_occurance_matrix[[i,j], [j,i]] = total_occurance\n",
        "\n",
        "    keyword_count = total_occurance_matrix.sum(axis=1)\n",
        "    keyword_count[keyword_count == 0] = 1\n",
        "\n",
        "    adja_matrix = total_occurance_matrix / keyword_count\n",
        "\n",
        "    with open(f'AdjacencyMatrices/{date_from.strftime(\"%y%m%d\")}_{date_to.strftime(\"%y%m%d\")}_AdjacencyMatrix.pickle', 'wb') as file:\n",
        "        pickle.dump([adja_matrix, keyword_count, unique_keywords], file)\n",
        "\n",
        "    return adja_matrix, keyword_count, unique_keywords"
      ],
      "metadata": {
        "pycharm": {
          "name": "#%%\n"
        },
        "id": "Lnxym8Zbfo62"
      }
    },
    {
      "cell_type": "code",
      "execution_count": null,
      "outputs": [],
      "source": [
        "adja_matrix, keyword_count, unique_keywords = get_adjacency_matrix(dt.datetime(2020,8,3, tzinfo=tz),\n",
        "                                                                   dt.datetime(2020,11,3, tzinfo=tz))\n",
        "adja_matrix"
      ],
      "metadata": {
        "pycharm": {
          "name": "#%%\n"
        },
        "id": "uJaqOrlrfo62"
      }
    },
    {
      "cell_type": "code",
      "execution_count": null,
      "outputs": [],
      "source": [
        "article_keywords = pd.read_feather('article_keywords.feather')\n",
        "article_keywords = article_keywords[(article_keywords.pub_date >= DATE_FROM) & (article_keywords.pub_date <= DATE_TO)]\n",
        "article_keywords = article_keywords.reset_index(drop=True)"
      ],
      "metadata": {
        "pycharm": {
          "name": "#%%\n"
        },
        "id": "C7gdmNmVfo62"
      }
    },
    {
      "cell_type": "code",
      "execution_count": null,
      "outputs": [],
      "source": [
        "unique_keywords = pd.DataFrame(columns=['name', 'value'])\n",
        "for index, row in article_keywords.iterrows():\n",
        "    print(f'{index}/{len(article_keywords)}', end='\\r')\n",
        "    for keyword in row['keywords']:\n",
        "        if unique_keywords[(unique_keywords['name'] == keyword['name']) & (unique_keywords['value'] == keyword['value'])].empty:\n",
        "            unique_keywords.loc[len(unique_keywords), ['name','value']] = keyword['name'], keyword['value']\n",
        "unique_keywords.to_feather('unique_keywords.feather')\n",
        "unique_keywords"
      ],
      "metadata": {
        "pycharm": {
          "name": "#%%\n"
        },
        "id": "maqGIb8wfo63"
      }
    },
    {
      "cell_type": "code",
      "execution_count": null,
      "outputs": [],
      "source": [
        "unique_keywords = pd.read_feather('unique_keywords.feather')"
      ],
      "metadata": {
        "pycharm": {
          "name": "#%%\n"
        },
        "id": "uWgOZNgefo63"
      }
    },
    {
      "cell_type": "code",
      "execution_count": null,
      "outputs": [],
      "source": [
        "labels = pd.DataFrame()\n",
        "\n",
        "for file in os.listdir('BioguideProfiles'):\n",
        "    with open(f'BioguideProfiles/{file}') as json_data:\n",
        "        data = json.load(json_data)\n",
        "\n",
        "    if 'Republican' in str(data) and not 'Democrat' in str(data):\n",
        "        labels.loc[len(labels), ['familyName', 'givenName', 'party']] = data['familyName'], data['givenName'], 'Republican Party'\n",
        "    elif 'Republican' not in str(data) and 'Democrat' in str(data):\n",
        "        labels.loc[len(labels), ['familyName', 'givenName', 'party']] = data['familyName'], data['givenName'], 'Democratic Party'        \n",
        "labels['cleaned_string'] = labels['familyName'].str.lower() + ', ' + labels['givenName'].str.lower()\n",
        "labels = labels[~labels.cleaned_string.duplicated()]\n",
        "labels"
      ],
      "metadata": {
        "pycharm": {
          "name": "#%%\n"
        },
        "id": "705CzO0Vfo63"
      }
    },
    {
      "cell_type": "code",
      "execution_count": null,
      "outputs": [],
      "source": [
        "unique_keywords['cleaned_string'] = unique_keywords['value'].apply(lambda x: re.match(r'^.+, \\w+', x))\n",
        "unique_keywords['cleaned_string'] = unique_keywords['cleaned_string'].apply(lambda x: x.group(0).lower() if x else None)\n",
        "unique_keywords['party'] = unique_keywords.cleaned_string.apply(lambda x: labels[labels.cleaned_string == x].party.values[0] if x in labels.cleaned_string.values else None)\n",
        "unique_keywords.party.value_counts()"
      ],
      "metadata": {
        "pycharm": {
          "name": "#%%\n"
        },
        "id": "SSBcvZnvfo63"
      }
    },
    {
      "cell_type": "code",
      "execution_count": null,
      "outputs": [],
      "source": [
        "adja_matrix, keyword_count, unique_keywords_list = pickle.load(open('AdjacencyMatrices/200803_201103_AdjacencyMatrix.pickle', 'rb'))"
      ],
      "metadata": {
        "pycharm": {
          "name": "#%%\n"
        },
        "id": "eqWnwPdGfo63"
      }
    },
    {
      "cell_type": "code",
      "execution_count": null,
      "outputs": [],
      "source": [
        "temp = pd.DataFrame({'node_name': unique_keywords_list, 'keyword_count': keyword_count})"
      ],
      "metadata": {
        "pycharm": {
          "name": "#%%\n"
        },
        "id": "Jt3JlEfxfo64"
      }
    },
    {
      "cell_type": "code",
      "execution_count": null,
      "outputs": [],
      "source": [
        "for index, row in unique_keywords.iterrows():\n",
        "    temp.loc[temp.node_name == row.value, 'party'] = row.party"
      ],
      "metadata": {
        "pycharm": {
          "name": "#%%\n"
        },
        "id": "fdooJt9Tfo64"
      }
    },
    {
      "cell_type": "code",
      "execution_count": null,
      "outputs": [],
      "source": [
        "with open(f'AdjacencyMatrices/200803_201103_AdjacencyMatrix_labeled.pickle', 'wb') as file:\n",
        "    pickle.dump([adja_matrix, temp], file)"
      ],
      "metadata": {
        "pycharm": {
          "name": "#%%\n"
        },
        "id": "JhDp8xU_fo64"
      }
    }
  ],
  "metadata": {
    "kernelspec": {
      "display_name": "Python 3.10.6 ('vscode')",
      "language": "python",
      "name": "python3"
    },
    "language_info": {
      "codemirror_mode": {
        "name": "ipython",
        "version": 3
      },
      "file_extension": ".py",
      "mimetype": "text/x-python",
      "name": "python",
      "nbconvert_exporter": "python",
      "pygments_lexer": "ipython3",
      "version": "3.10.6"
    },
    "vscode": {
      "interpreter": {
        "hash": "0cd0ca3843055f6c67784ffa9bbda3993bf1e6b764992b758004288f2313c2eb"
      }
    },
    "colab": {
      "provenance": []
    }
  },
  "nbformat": 4,
  "nbformat_minor": 0
}